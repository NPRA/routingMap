{
 "cells": [
  {
   "cell_type": "code",
   "execution_count": 1,
   "metadata": {},
   "outputs": [],
   "source": [
    "import folium\n",
    "import io\n",
    "from PIL import Image\n",
    "import folium.features\n",
    "import json\n",
    "import requests\n",
    "from folium.plugins import FloatImage\n",
    "import base64\n",
    "from PIL import Image, ImageDraw, ImageFont\n",
    "\n",
    "from datetime import datetime"
   ]
  },
  {
   "cell_type": "code",
   "execution_count": 2,
   "metadata": {},
   "outputs": [],
   "source": [
    "m = folium.Map([69.1, 15.8],zoom_start=10,zoom_control=False)"
   ]
  },
  {
   "cell_type": "markdown",
   "metadata": {},
   "source": [
    "Enter Parameters:"
   ]
  },
  {
   "cell_type": "code",
   "execution_count": 3,
   "metadata": {},
   "outputs": [],
   "source": [
    "showPopup = True # vis popup med info om stengte veier når kartet åpnes\n",
    "\n",
    "steder = [\"Trondheim\", \"Bergen\"] # [start. via, .., stopp]\n",
    "Start_sted = steder[0]\n",
    "Slutt_sted = steder[-1]\n",
    "\n",
    "\n",
    "\n",
    "bruksklasse = \"Bk_10_50\" # mulige bruksklasser (sett til \"\" for vanlig bil): [ Bk_6_28, Bk_8_32, Bk_T8_40, Bk_T8_50, Bk_10_42, Bk_10_50, Bk_10_56, Bk_10_60 ]\n",
    "\n",
    "makeImage = True # lag bilde av kartet\n",
    "\n",
    "makeWeb = True # Lager en hjemmeside av resultatet\n",
    "\n",
    "height = 0 # høyde på kjøretøy, i meter"
   ]
  },
  {
   "cell_type": "code",
   "execution_count": 4,
   "metadata": {},
   "outputs": [
    {
     "name": "stdout",
     "output_type": "stream",
     "text": [
      "https://api.kartverket.no/stedsnavn/v1/navn?sok=Trondheim&fuzzy=true&utkoordsys=4258&treffPerSide=10&side=1\n",
      "https://api.kartverket.no/stedsnavn/v1/navn?sok=Bergen&fuzzy=true&utkoordsys=4258&treffPerSide=10&side=1\n",
      "[[63.43048, 10.39506], [60.39323, 5.3245]]\n"
     ]
    }
   ],
   "source": [
    "\n",
    "locs = []\n",
    "for sted in steder:\n",
    "    sok = requests.get(f\"https://api.kartverket.no/stedsnavn/v1/navn?sok={sted}&fuzzy=true&utkoordsys=4258&treffPerSide=10&side=1\")\n",
    "    print(sok.url)\n",
    "    data = sok.json()\n",
    "    locs.append([data[\"navn\"][0][\"representasjonspunkt\"][\"nord\"],data[\"navn\"][0][\"representasjonspunkt\"][\"øst\"]])\n",
    "print(locs)"
   ]
  },
  {
   "cell_type": "code",
   "execution_count": 5,
   "metadata": {},
   "outputs": [
    {
     "name": "stdout",
     "output_type": "stream",
     "text": [
      "10.39506,63.43048;5.3245,60.39323\n"
     ]
    }
   ],
   "source": [
    "stops = locs #[[63.428633,9.513474],[63.490839,9.35194]]\n",
    "stopParam =  \"\"\n",
    "for s in stops:\n",
    "    stopParam = stopParam + str(s[1])+\",\"+str(s[0])+\";\"\n",
    "print(stopParam[:-1])    \n",
    "stopParam = stopParam[:-1]"
   ]
  },
  {
   "cell_type": "code",
   "execution_count": null,
   "metadata": {},
   "outputs": [],
   "source": []
  },
  {
   "cell_type": "code",
   "execution_count": 6,
   "metadata": {},
   "outputs": [
    {
     "name": "stdout",
     "output_type": "stream",
     "text": [
      "https://www.vegvesen.no/ws/no/vegvesen/ruteplan/routingservice_v3_0/open/routingservice/api/Route/bruksklasseNormalTransport?Stops=10.39506,63.43048;5.3245,60.39323&InputSRS=EPSG_4326&OutputSRS=EPSG_4326&ReturnFields=Geometry&Bruksklasse=Bk_10_50\n",
      "RoadWork\n",
      "https://traffic-info.atlas.vegvesen.no/traffic-information/messages/NPRA_HBT_13-12-2024.201523\n",
      "RoadWork\n",
      "https://traffic-info.atlas.vegvesen.no/traffic-information/messages/NPRA_HBT_17-02-2025.34721\n",
      "RoadClosed\n",
      "https://traffic-info.atlas.vegvesen.no/traffic-information/messages/NPRA_HBT_03-03-2025.43577\n",
      "RoadWork\n",
      "https://traffic-info.atlas.vegvesen.no/traffic-information/messages/NPRA_HBT_03-09-2024.140518\n",
      "RoadWork\n",
      "https://traffic-info.atlas.vegvesen.no/traffic-information/messages/NPRA_HBT_03-09-2024.140518\n",
      "Warning\n",
      "https://traffic-info.atlas.vegvesen.no/traffic-information/messages/NPRA_HBT_16-10-2024.162961\n",
      "RoadWork\n",
      "https://traffic-info.atlas.vegvesen.no/traffic-information/messages/NPRA_HBT_10-11-2023.158256\n",
      "RoadClosed\n",
      "https://traffic-info.atlas.vegvesen.no/traffic-information/messages/NPRA_HBT_05-03-2025.45818\n",
      "RoadWork\n",
      "https://traffic-info.atlas.vegvesen.no/traffic-information/messages/NPRA_HBT_14-02-2025.33132\n",
      "RoadWork\n",
      "https://traffic-info.atlas.vegvesen.no/traffic-information/messages/NPRA_HBT_02-01-2025.1510\n",
      "RoadWork\n",
      "https://traffic-info.atlas.vegvesen.no/traffic-information/messages/NPRA_HBT_28-02-2025.42222\n",
      "RoadClosed\n",
      "https://traffic-info.atlas.vegvesen.no/traffic-information/messages/NPRA_HBT_28-02-2025.42276\n",
      "RoadClosed\n",
      "https://traffic-info.atlas.vegvesen.no/traffic-information/messages/NPRA_HBT_01-03-2025.42628\n"
     ]
    }
   ],
   "source": [
    "\n",
    "baseurl = 'https://www.vegvesen.no/ws/no/vegvesen/ruteplan/routingservice_v3_0/open/routingservice/api/Route/best'\n",
    "url1 = baseurl+'?Stops='+stopParam+'&InputSRS=EPSG_4326&OutputSRS=EPSG_4326&ReturnFields=Geometry'\n",
    "if bruksklasse != \"\":\n",
    "    baseurl = \"https://www.vegvesen.no/ws/no/vegvesen/ruteplan/routingservice_v3_0/open/routingservice/api/Route/bruksklasseNormalTransport\"\n",
    "    url1 = baseurl+'?Stops='+stopParam+'&InputSRS=EPSG_4326&OutputSRS=EPSG_4326&ReturnFields=Geometry'\n",
    "    url1 = url1 + \"&Bruksklasse=\" + bruksklasse\n",
    "if height > 0:\n",
    "    url1 = url1 + \"&Height=\"+str(height)\n",
    "x = requests.get(url1)\n",
    "print(x.url)\n",
    "gjson = x.json()\n",
    "if gjson.get('code') is not None and gjson['code'] == 9005:\n",
    "    print(\"No route found\")\n",
    "else:\n",
    "    newgjson = {\n",
    "        \"type\": \"FeatureCollection\",\n",
    "        \"features\": gjson['routes'][0]['features']\n",
    "    }\n",
    "    for feat in newgjson[\"features\"]:\n",
    "        if feat[\"properties\"][\"roadFeatures\"][\"trafficMessages\"]:\n",
    "            print(feat[\"properties\"][\"roadFeatures\"][\"trafficMessages\"][0]['type'])\n",
    "            feat[\"properties\"][\"trafficMsg\"] = feat[\"properties\"][\"roadFeatures\"][\"trafficMessages\"][0]['type']\n",
    "\n",
    "            ## Get traffic message details\n",
    "            description = \"\"\n",
    "            activeNow = True\n",
    "            if True: #feat[\"properties\"][\"roadFeatures\"][\"trafficMessages\"][0]['type'] == \"RoadClosed\":\n",
    "                simpleDetailsUrl = feat[\"properties\"][\"roadFeatures\"][\"trafficMessages\"][0]['simpleDetailsUrl']\n",
    "                trafficMessageReq = requests.get(simpleDetailsUrl,headers={\"Accept\":\"application/vnd.svv.v1+json;charset=utf-8\",\"X-System-ID\": \"kajshlkjahsdlkjh\"})\n",
    "                print(simpleDetailsUrl)\n",
    "                trafficMessage = trafficMessageReq.json()\n",
    "                activeNow = trafficMessage['trafficMessages'][0]['isActiveNow']\n",
    "                description = trafficMessage['trafficMessages'][0]['descriptionOfTrafficMessage'].replace(\"|\",\"</br>\")\n",
    "\n",
    "            ## Add markers for road closed and circle for other messages\n",
    "            if feat[\"properties\"][\"roadFeatures\"][\"trafficMessages\"][0]['type'] == \"RoadClosed\":\n",
    "                if activeNow:\n",
    "                    folium.Marker(\n",
    "                        icon=folium.Icon(color=\"red\"),\n",
    "                        location=[feat[\"properties\"][\"roadFeatures\"][\"trafficMessages\"][0]['location']['y'], feat[\"properties\"][\"roadFeatures\"][\"trafficMessages\"][0]['location']['x']],\n",
    "                        popup=folium.Popup(feat[\"properties\"][\"trafficMsg\"]+\"</br>\"+\"Active: \"+str(activeNow)+\"</br>\"+description,max_width=150,show=showPopup) #feat[\"properties\"][\"roadFeatures\"][\"trafficMessages\"][0]['type'],\n",
    "                    ).add_to(m)\n",
    "                else:\n",
    "                    folium.CircleMarker(\n",
    "                    radius=4, fill_color=\"black\", fill_opacity=0.8, color=\"black\", weight=1,\n",
    "                    location=[feat[\"properties\"][\"roadFeatures\"][\"trafficMessages\"][0]['location']['y'], feat[\"properties\"][\"roadFeatures\"][\"trafficMessages\"][0]['location']['x']],\n",
    "                    popup=folium.Popup(feat[\"properties\"][\"trafficMsg\"]+\"</br>\"+\"Active: \"+str(activeNow)+\"</br>\"+description,max_width=150)#feat[\"properties\"][\"roadFeatures\"][\"trafficMessages\"][0]['type'],\n",
    "                ).add_to(m)\n",
    "            else:\n",
    "                if activeNow:\n",
    "                    folium.CircleMarker(\n",
    "                        radius=4, fill_color=\"orange\", fill_opacity=0.8, color=\"black\", weight=1,\n",
    "                        location=[feat[\"properties\"][\"roadFeatures\"][\"trafficMessages\"][0]['location']['y'], feat[\"properties\"][\"roadFeatures\"][\"trafficMessages\"][0]['location']['x']],\n",
    "                        popup=folium.Popup(feat[\"properties\"][\"trafficMsg\"]+\"</br>\"+\"Active: \"+str(activeNow)+\"</br>\"+description,max_width=150)#feat[\"properties\"][\"roadFeatures\"][\"trafficMessages\"][0]['type'],\n",
    "                    ).add_to(m)\n",
    "                else:\n",
    "                    folium.CircleMarker(\n",
    "                        radius=4, fill_color=\"gray\", fill_opacity=0.8, color=\"black\", weight=1,\n",
    "                        location=[feat[\"properties\"][\"roadFeatures\"][\"trafficMessages\"][0]['location']['y'], feat[\"properties\"][\"roadFeatures\"][\"trafficMessages\"][0]['location']['x']],\n",
    "                        popup=folium.Popup(feat[\"properties\"][\"trafficMsg\"]+\"</br>\"+\"Active: \"+str(activeNow)+\"</br>\"+description,max_width=150)#feat[\"properties\"][\"roadFeatures\"][\"trafficMessages\"][0]['type'],\n",
    "                    ).add_to(m)\n",
    "        else:\n",
    "            feat[\"properties\"][\"trafficMsg\"] = {\"msgType\":\"No traffic messages\"}\n",
    "\n",
    "    popup = folium.GeoJsonPopup(fields=['trafficMsg'])\n",
    "    g = folium.GeoJson(newgjson,\n",
    "            style_function=lambda feature: {\n",
    "                \"color\": \"red\",\n",
    "                \"weight\": 2,\n",
    "                \"dashArray\": \"5, 5\",\n",
    "            },\n",
    "            popup=popup\n",
    "        ).add_to(m)\n",
    "    folium.FitOverlays(max_zoom=12).add_to(m)"
   ]
  },
  {
   "cell_type": "code",
   "execution_count": 7,
   "metadata": {},
   "outputs": [
    {
     "name": "stdout",
     "output_type": "stream",
     "text": [
      "https://www.vegvesen.no/ws/no/vegvesen/ruteplan/routingservice_v3_0/open/routingservice/api/Route/bruksklasseNormalTransport?Stops=10.39506,63.43048;5.3245,60.39323&InputSRS=EPSG_4326&OutputSRS=EPSG_4326&ReturnFields=Geometry&AvoidTrafficMessageTypes=roadclosed&Bruksklasse=Bk_10_50\n"
     ]
    }
   ],
   "source": [
    "url = baseurl+'?Stops='+stopParam+'&InputSRS=EPSG_4326&OutputSRS=EPSG_4326&ReturnFields=Geometry&AvoidTrafficMessageTypes=roadclosed'\n",
    "if bruksklasse != \"\":\n",
    "    baseurl = \"https://www.vegvesen.no/ws/no/vegvesen/ruteplan/routingservice_v3_0/open/routingservice/api/Route/bruksklasseNormalTransport\"\n",
    "    url = baseurl+'?Stops='+stopParam+'&InputSRS=EPSG_4326&OutputSRS=EPSG_4326&ReturnFields=Geometry&AvoidTrafficMessageTypes=roadclosed'\n",
    "    url = url + \"&Bruksklasse=\" + bruksklasse\n",
    "if height > 0:\n",
    "    url = url + \"&Height=\"+str(height)\n",
    "print(url)\n",
    "x = requests.get(url)\n",
    "\n",
    "gjson = x.json()\n",
    "if gjson.get('code') is not None and gjson['code'] == 9005:\n",
    "    print(\"No route found\")\n",
    "else:\n",
    "    newgjson = {\n",
    "        \"type\": \"FeatureCollection\",\n",
    "        \"features\": gjson['routes'][0]['features']\n",
    "    }\n",
    "\n",
    "\n",
    "    g = folium.GeoJson(newgjson,style_function=lambda feature: {\n",
    "            \"color\": \"green\",\n",
    "            \"weight\": 2.5,\n",
    "        }).add_to(m)\n",
    "    folium.FitOverlays(max_zoom=12).add_to(m)"
   ]
  },
  {
   "cell_type": "code",
   "execution_count": 8,
   "metadata": {},
   "outputs": [],
   "source": [
    "#m\n"
   ]
  },
  {
   "cell_type": "code",
   "execution_count": 9,
   "metadata": {},
   "outputs": [],
   "source": [
    "\n",
    "\n",
    "now = datetime.now() # current date and time\n",
    "date_time = now.strftime(\"%Y%m%d %H_%M_%S\")\n",
    "\n",
    "image = Image.new(\"RGB\", (200, 50), \"lightgray\")\n",
    "draw = ImageDraw.Draw(image)\n",
    "\n",
    "font = ImageFont.truetype(\"/usr/share/fonts/truetype/junicode/Junicode.ttf\", size=10)\n",
    "draw.text((10, 10), f\"Rute: {Start_sted} - {Slutt_sted}\", font=font, fill=(1, 1, 1))\n",
    "\n",
    "font = ImageFont.truetype(\"/usr/share/fonts/truetype/junicode/Junicode.ttf\", size=8)\n",
    "draw.text((10, 30), f'Tidsstempel: {date_time}', font=font, fill=(1, 1, 1))\n",
    "\n",
    "\n",
    "image.save(\"result.png\")\n",
    "\n",
    "with open(\"result.png\", 'rb') as lf:\n",
    "  # open in binary mode, read bytes, encode, decode obtained bytes as utf-8 string\n",
    "  b64_content = base64.b64encode(lf.read()).decode('utf-8')\n",
    "\n",
    "FloatImage('data:image/png;base64,{}'.format(b64_content), bottom=0, left=0).add_to(m)\n",
    "#FloatImage(\"result.png\", bottom=10, left=15).add_to(m)\n",
    "\n",
    "makeImage = True\n",
    "if makeImage:\n",
    "    img_data = m._to_png(5)\n",
    "    img = Image.open(io.BytesIO(img_data))\n",
    "    img.save(f'Route {Start_sted} - {Slutt_sted} {date_time}.png')\n",
    "    \n",
    "if makeWeb:\n",
    "    m.save(f\"Route {Start_sted} - {Slutt_sted} {date_time}.html\")\n",
    "\n",
    "    \n"
   ]
  },
  {
   "cell_type": "code",
   "execution_count": null,
   "metadata": {},
   "outputs": [],
   "source": [
    "\n"
   ]
  }
 ],
 "metadata": {
  "kernelspec": {
   "display_name": ".venv",
   "language": "python",
   "name": "python3"
  },
  "language_info": {
   "codemirror_mode": {
    "name": "ipython",
    "version": 3
   },
   "file_extension": ".py",
   "mimetype": "text/x-python",
   "name": "python",
   "nbconvert_exporter": "python",
   "pygments_lexer": "ipython3",
   "version": "3.11.11"
  }
 },
 "nbformat": 4,
 "nbformat_minor": 2
}
